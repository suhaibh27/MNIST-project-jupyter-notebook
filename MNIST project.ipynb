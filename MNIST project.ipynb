{
 "cells": [
  {
   "cell_type": "code",
   "execution_count": 2,
   "metadata": {},
   "outputs": [
    {
     "name": "stdout",
     "output_type": "stream",
     "text": [
      "Collecting tensorflow\n",
      "  Downloading tensorflow-2.4.1-cp38-cp38-win_amd64.whl (370.7 MB)\n",
      "Collecting opt-einsum~=3.3.0\n",
      "  Downloading opt_einsum-3.3.0-py3-none-any.whl (65 kB)\n",
      "Collecting astunparse~=1.6.3\n",
      "  Downloading astunparse-1.6.3-py2.py3-none-any.whl (12 kB)\n",
      "Collecting wrapt~=1.12.1\n",
      "  Downloading wrapt-1.12.1.tar.gz (27 kB)\n",
      "Collecting tensorflow-estimator<2.5.0,>=2.4.0\n",
      "  Downloading tensorflow_estimator-2.4.0-py2.py3-none-any.whl (462 kB)\n",
      "Requirement already satisfied: numpy~=1.19.2 in c:\\users\\hakeem\\anaconda3\\lib\\site-packages (from tensorflow) (1.19.2)\n",
      "Requirement already satisfied: six~=1.15.0 in c:\\users\\hakeem\\anaconda3\\lib\\site-packages (from tensorflow) (1.15.0)\n",
      "Requirement already satisfied: typing-extensions~=3.7.4 in c:\\users\\hakeem\\anaconda3\\lib\\site-packages (from tensorflow) (3.7.4.3)\n",
      "Requirement already satisfied: wheel~=0.35 in c:\\users\\hakeem\\anaconda3\\lib\\site-packages (from tensorflow) (0.35.1)\n",
      "Collecting tensorboard~=2.4\n",
      "  Downloading tensorboard-2.4.1-py3-none-any.whl (10.6 MB)\n",
      "Collecting flatbuffers~=1.12.0\n",
      "  Downloading flatbuffers-1.12-py2.py3-none-any.whl (15 kB)\n",
      "Collecting google-pasta~=0.2\n",
      "  Downloading google_pasta-0.2.0-py3-none-any.whl (57 kB)\n",
      "Collecting keras-preprocessing~=1.1.2\n",
      "  Downloading Keras_Preprocessing-1.1.2-py2.py3-none-any.whl (42 kB)\n",
      "Collecting protobuf>=3.9.2\n",
      "  Downloading protobuf-3.15.6-py2.py3-none-any.whl (173 kB)\n",
      "Collecting gast==0.3.3\n",
      "  Downloading gast-0.3.3-py2.py3-none-any.whl (9.7 kB)\n",
      "Collecting absl-py~=0.10\n",
      "  Downloading absl_py-0.12.0-py3-none-any.whl (129 kB)\n",
      "Requirement already satisfied: h5py~=2.10.0 in c:\\users\\hakeem\\anaconda3\\lib\\site-packages (from tensorflow) (2.10.0)\n",
      "Collecting grpcio~=1.32.0\n",
      "  Downloading grpcio-1.32.0-cp38-cp38-win_amd64.whl (2.6 MB)\n",
      "Collecting termcolor~=1.1.0\n",
      "  Downloading termcolor-1.1.0.tar.gz (3.9 kB)\n",
      "Requirement already satisfied: setuptools>=41.0.0 in c:\\users\\hakeem\\anaconda3\\lib\\site-packages (from tensorboard~=2.4->tensorflow) (50.3.1.post20201107)\n",
      "Collecting google-auth<2,>=1.6.3\n",
      "  Downloading google_auth-1.28.0-py2.py3-none-any.whl (136 kB)\n",
      "Collecting tensorboard-plugin-wit>=1.6.0\n",
      "  Downloading tensorboard_plugin_wit-1.8.0-py3-none-any.whl (781 kB)\n",
      "Requirement already satisfied: werkzeug>=0.11.15 in c:\\users\\hakeem\\anaconda3\\lib\\site-packages (from tensorboard~=2.4->tensorflow) (1.0.1)\n",
      "Requirement already satisfied: requests<3,>=2.21.0 in c:\\users\\hakeem\\anaconda3\\lib\\site-packages (from tensorboard~=2.4->tensorflow) (2.24.0)\n",
      "Collecting markdown>=2.6.8\n",
      "  Downloading Markdown-3.3.4-py3-none-any.whl (97 kB)\n",
      "Collecting google-auth-oauthlib<0.5,>=0.4.1\n",
      "  Downloading google_auth_oauthlib-0.4.3-py2.py3-none-any.whl (18 kB)\n",
      "Collecting cachetools<5.0,>=2.0.0\n",
      "  Downloading cachetools-4.2.1-py3-none-any.whl (12 kB)\n",
      "Collecting rsa<5,>=3.1.4; python_version >= \"3.6\"\n",
      "  Downloading rsa-4.7.2-py3-none-any.whl (34 kB)\n",
      "Collecting pyasn1-modules>=0.2.1\n",
      "  Downloading pyasn1_modules-0.2.8-py2.py3-none-any.whl (155 kB)\n",
      "Requirement already satisfied: idna<3,>=2.5 in c:\\users\\hakeem\\anaconda3\\lib\\site-packages (from requests<3,>=2.21.0->tensorboard~=2.4->tensorflow) (2.10)\n",
      "Requirement already satisfied: certifi>=2017.4.17 in c:\\users\\hakeem\\anaconda3\\lib\\site-packages (from requests<3,>=2.21.0->tensorboard~=2.4->tensorflow) (2020.6.20)\n",
      "Requirement already satisfied: urllib3!=1.25.0,!=1.25.1,<1.26,>=1.21.1 in c:\\users\\hakeem\\anaconda3\\lib\\site-packages (from requests<3,>=2.21.0->tensorboard~=2.4->tensorflow) (1.25.11)\n",
      "Requirement already satisfied: chardet<4,>=3.0.2 in c:\\users\\hakeem\\anaconda3\\lib\\site-packages (from requests<3,>=2.21.0->tensorboard~=2.4->tensorflow) (3.0.4)\n",
      "Collecting requests-oauthlib>=0.7.0\n",
      "  Downloading requests_oauthlib-1.3.0-py2.py3-none-any.whl (23 kB)\n",
      "Collecting pyasn1>=0.1.3\n",
      "  Downloading pyasn1-0.4.8-py2.py3-none-any.whl (77 kB)\n",
      "Collecting oauthlib>=3.0.0\n",
      "  Downloading oauthlib-3.1.0-py2.py3-none-any.whl (147 kB)\n",
      "Building wheels for collected packages: wrapt, termcolor\n",
      "  Building wheel for wrapt (setup.py): started\n",
      "  Building wheel for wrapt (setup.py): finished with status 'done'\n",
      "  Created wheel for wrapt: filename=wrapt-1.12.1-cp38-cp38-win_amd64.whl size=33701 sha256=236e5d6dd58f619d917ef6b3023e18352b36c7623b78bde2ad906c81cbe4d2aa\n",
      "  Stored in directory: c:\\users\\hakeem\\appdata\\local\\pip\\cache\\wheels\\5f\\fd\\9e\\b6cf5890494cb8ef0b5eaff72e5d55a70fb56316007d6dfe73\n",
      "  Building wheel for termcolor (setup.py): started\n",
      "  Building wheel for termcolor (setup.py): finished with status 'done'\n",
      "  Created wheel for termcolor: filename=termcolor-1.1.0-py3-none-any.whl size=4835 sha256=d86ef9be7395f8033fd28e7f91316f09ce15b666b7ef60031921cec280fb134b\n",
      "  Stored in directory: c:\\users\\hakeem\\appdata\\local\\pip\\cache\\wheels\\a0\\16\\9c\\5473df82468f958445479c59e784896fa24f4a5fc024b0f501\n",
      "Successfully built wrapt termcolor\n",
      "Installing collected packages: opt-einsum, astunparse, wrapt, tensorflow-estimator, cachetools, pyasn1, rsa, pyasn1-modules, google-auth, grpcio, tensorboard-plugin-wit, protobuf, markdown, oauthlib, requests-oauthlib, google-auth-oauthlib, absl-py, tensorboard, flatbuffers, google-pasta, keras-preprocessing, gast, termcolor, tensorflow\n",
      "  Attempting uninstall: wrapt\n",
      "    Found existing installation: wrapt 1.11.2\n",
      "    Uninstalling wrapt-1.11.2:\n",
      "      Successfully uninstalled wrapt-1.11.2\n",
      "Successfully installed absl-py-0.12.0 astunparse-1.6.3 cachetools-4.2.1 flatbuffers-1.12 gast-0.3.3 google-auth-1.28.0 google-auth-oauthlib-0.4.3 google-pasta-0.2.0 grpcio-1.32.0 keras-preprocessing-1.1.2 markdown-3.3.4 oauthlib-3.1.0 opt-einsum-3.3.0 protobuf-3.15.6 pyasn1-0.4.8 pyasn1-modules-0.2.8 requests-oauthlib-1.3.0 rsa-4.7.2 tensorboard-2.4.1 tensorboard-plugin-wit-1.8.0 tensorflow-2.4.1 tensorflow-estimator-2.4.0 termcolor-1.1.0 wrapt-1.12.1\n"
     ]
    }
   ],
   "source": [
    "!pip install tensorflow"
   ]
  },
  {
   "cell_type": "code",
   "execution_count": 3,
   "metadata": {},
   "outputs": [
    {
     "name": "stdout",
     "output_type": "stream",
     "text": [
      "Collecting tabulate\n",
      "  Downloading tabulate-0.8.9-py3-none-any.whl (25 kB)\n",
      "Installing collected packages: tabulate\n",
      "Successfully installed tabulate-0.8.9\n"
     ]
    }
   ],
   "source": [
    "!pip install tabulate"
   ]
  },
  {
   "cell_type": "code",
   "execution_count": 4,
   "metadata": {},
   "outputs": [],
   "source": [
    "import tensorflow as tf\n",
    "from PIL import Image\n",
    "from tensorflow import keras\n",
    "from tensorflow.keras.datasets import mnist\n",
    "import os\n",
    "import numpy as np\n",
    "from tabulate import tabulate"
   ]
  },
  {
   "cell_type": "code",
   "execution_count": 5,
   "metadata": {},
   "outputs": [
    {
     "data": {
      "text/plain": [
       "5000"
      ]
     },
     "execution_count": 5,
     "metadata": {},
     "output_type": "execute_result"
    }
   ],
   "source": [
    "#array that stores all the images names\n",
    "trainSet=[]\n",
    "testSet=[]\n",
    "testSet.append(os.listdir(\"MAHDBase_TestingSet\\Part01\"))\n",
    "testSet.append(os.listdir(\"MAHDBase_TestingSet\\Part02\"))\n",
    "for p in range(1,13):\n",
    "    if p<10:\n",
    "        trainSet.append(os.listdir(\"MAHDBase_TrainingSet\\Part0\"+str(p)))\n",
    "    else:\n",
    "        trainSet.append(os.listdir(\"MAHDBase_TrainingSet\\Part\"+str(p)))\n",
    "trainSet[0].pop(0)\n",
    "testSet[0].pop(0)\n",
    "len(trainSet[0])"
   ]
  },
  {
   "cell_type": "code",
   "execution_count": 6,
   "metadata": {},
   "outputs": [],
   "source": [
    "trainData = []\n",
    "trainLabel = []\n",
    "label=0\n",
    "# for each part in the data set\n",
    "for index in range(len(trainSet)):\n",
    "    #for each image in the part folder\n",
    "    for image in trainSet[index]:\n",
    "        ##labling\n",
    "        #in order from 0 to 9 and repeats for every 10 images\n",
    "        trainLabel.append(label)\n",
    "        label+=1\n",
    "        if(label>9):\n",
    "            label=0\n",
    "        partNum=\"0\"+str(index+1) if index+1<10 else str(index+1)\n",
    "        link = \"MAHDBase_TrainingSet/Part\"+partNum+\"/\"+ image\n",
    "        img = Image.open(link)\n",
    "        #gettig the data in a list 784 each 0 or 255\n",
    "        image_data = list(img.getdata())\n",
    "        img_array = np.array(image_data)\n",
    "        trainData.append(img_array)\n",
    "##Testing set data\n",
    "label=0\n",
    "testData = []\n",
    "testLabel = []\n",
    "for ind in range(len(testSet)):\n",
    "    #for each image in the part folder\n",
    "    for image in testSet[ind]:\n",
    "        testLabel.append(label)\n",
    "        label+=1\n",
    "        if(label>9):\n",
    "            label=0\n",
    "        partNum=str(ind+1)\n",
    "        link = \"MAHDBase_TestingSet/Part0\"+partNum+\"/\"+ image\n",
    "        img = Image.open(link)\n",
    "        image_data = list(img.getdata())\n",
    "        img_array = np.array(image_data)\n",
    "        testData.append(img_array)\n"
   ]
  },
  {
   "cell_type": "code",
   "execution_count": 7,
   "metadata": {
    "scrolled": false
   },
   "outputs": [
    {
     "name": "stdout",
     "output_type": "stream",
     "text": [
      "number of Trainning data 60000\n",
      "shape of each image: (784,)\n",
      "number of lables= 60000\n"
     ]
    }
   ],
   "source": [
    "print(\"number of Trainning data \"+str(len(trainData))+\"\\nshape of each image: \"+str(trainData[0].shape)+\"\\nnumber of lables= \"+str(len(trainLabel)))"
   ]
  },
  {
   "cell_type": "code",
   "execution_count": 8,
   "metadata": {},
   "outputs": [],
   "source": [
    "trainData=np.array(trainData)\n",
    "testData=np.array(testData)\n"
   ]
  },
  {
   "cell_type": "code",
   "execution_count": 9,
   "metadata": {},
   "outputs": [
    {
     "data": {
      "text/plain": [
       "((60000, 28, 28), (10000, 28, 28))"
      ]
     },
     "execution_count": 9,
     "metadata": {},
     "output_type": "execute_result"
    }
   ],
   "source": [
    "trainData.shape=(60000,28,28)\n",
    "testData.shape=(10000,28,28)\n",
    "trainData.shape,testData.shape"
   ]
  },
  {
   "cell_type": "code",
   "execution_count": 10,
   "metadata": {},
   "outputs": [],
   "source": [
    "#Feature Scaling\n",
    "x_valid,x_train=trainData[:5000]/255,trainData[5000:]/255\n",
    "y_valid,y_train=trainLabel[:5000],trainLabel[5000:]\n",
    "\n",
    "x_valid=np.array(x_valid)\n",
    "x_train= np.array(x_train)\n",
    "y_valid=np.array(y_valid)\n",
    "y_train=np.array(y_train)\n",
    "\n",
    "testLabel=np.array(testLabel)"
   ]
  },
  {
   "cell_type": "code",
   "execution_count": 11,
   "metadata": {},
   "outputs": [],
   "source": [
    "model=keras.models.Sequential()\n",
    "model.add(keras.layers.Flatten(input_shape=[28,28]))\n",
    "model.add(keras.layers.Dense(300,activation=\"relu\"))\n",
    "model.add(keras.layers.Dense(100,activation=\"relu\"))\n",
    "model.add(keras.layers.Dense(10,activation=\"softmax\"))"
   ]
  },
  {
   "cell_type": "markdown",
   "metadata": {},
   "source": [
    "# Model 1  loss function: \"sparse_categorical_crossentropy\"/optimizer=\"sgd\""
   ]
  },
  {
   "cell_type": "code",
   "execution_count": 12,
   "metadata": {},
   "outputs": [],
   "source": [
    "model.compile(loss=\"sparse_categorical_crossentropy\",optimizer=\"sgd\",metrics=[\"accuracy\"])"
   ]
  },
  {
   "cell_type": "code",
   "execution_count": 13,
   "metadata": {
    "scrolled": true
   },
   "outputs": [
    {
     "name": "stdout",
     "output_type": "stream",
     "text": [
      "Epoch 1/30\n",
      "1719/1719 [==============================] - 5s 2ms/step - loss: 0.8186 - accuracy: 0.7782 - val_loss: 0.1623 - val_accuracy: 0.9596\n",
      "Epoch 2/30\n",
      "1719/1719 [==============================] - 4s 2ms/step - loss: 0.1829 - accuracy: 0.9486 - val_loss: 0.1464 - val_accuracy: 0.9602\n",
      "Epoch 3/30\n",
      "1719/1719 [==============================] - 3s 2ms/step - loss: 0.1441 - accuracy: 0.9587 - val_loss: 0.1204 - val_accuracy: 0.9644\n",
      "Epoch 4/30\n",
      "1719/1719 [==============================] - 3s 2ms/step - loss: 0.1291 - accuracy: 0.9614 - val_loss: 0.1124 - val_accuracy: 0.9702\n",
      "Epoch 5/30\n",
      "1719/1719 [==============================] - 3s 2ms/step - loss: 0.1173 - accuracy: 0.9658 - val_loss: 0.1258 - val_accuracy: 0.9642\n",
      "Epoch 6/30\n",
      "1719/1719 [==============================] - 4s 2ms/step - loss: 0.1115 - accuracy: 0.9664 - val_loss: 0.1052 - val_accuracy: 0.9712\n",
      "Epoch 7/30\n",
      "1719/1719 [==============================] - 3s 2ms/step - loss: 0.1078 - accuracy: 0.9676 - val_loss: 0.1027 - val_accuracy: 0.9698\n",
      "Epoch 8/30\n",
      "1719/1719 [==============================] - 3s 2ms/step - loss: 0.1006 - accuracy: 0.9703 - val_loss: 0.0880 - val_accuracy: 0.9766\n",
      "Epoch 9/30\n",
      "1719/1719 [==============================] - 3s 2ms/step - loss: 0.0922 - accuracy: 0.9738 - val_loss: 0.1281 - val_accuracy: 0.9632\n",
      "Epoch 10/30\n",
      "1719/1719 [==============================] - 3s 2ms/step - loss: 0.0894 - accuracy: 0.9732 - val_loss: 0.0955 - val_accuracy: 0.9732\n",
      "Epoch 11/30\n",
      "1719/1719 [==============================] - 3s 2ms/step - loss: 0.0856 - accuracy: 0.9747 - val_loss: 0.0792 - val_accuracy: 0.9768\n",
      "Epoch 12/30\n",
      "1719/1719 [==============================] - 3s 2ms/step - loss: 0.0844 - accuracy: 0.9758 - val_loss: 0.0779 - val_accuracy: 0.9760\n",
      "Epoch 13/30\n",
      "1719/1719 [==============================] - 3s 2ms/step - loss: 0.0813 - accuracy: 0.9763 - val_loss: 0.0914 - val_accuracy: 0.9754\n",
      "Epoch 14/30\n",
      "1719/1719 [==============================] - 3s 2ms/step - loss: 0.0829 - accuracy: 0.9767 - val_loss: 0.1110 - val_accuracy: 0.9656\n",
      "Epoch 15/30\n",
      "1719/1719 [==============================] - 4s 2ms/step - loss: 0.0720 - accuracy: 0.9792 - val_loss: 0.0686 - val_accuracy: 0.9796\n",
      "Epoch 16/30\n",
      "1719/1719 [==============================] - 3s 2ms/step - loss: 0.0717 - accuracy: 0.9792 - val_loss: 0.0686 - val_accuracy: 0.9816\n",
      "Epoch 17/30\n",
      "1719/1719 [==============================] - 3s 2ms/step - loss: 0.0682 - accuracy: 0.9804 - val_loss: 0.0638 - val_accuracy: 0.9824\n",
      "Epoch 18/30\n",
      "1719/1719 [==============================] - 4s 2ms/step - loss: 0.0664 - accuracy: 0.9806 - val_loss: 0.0673 - val_accuracy: 0.9808\n",
      "Epoch 19/30\n",
      "1719/1719 [==============================] - 4s 2ms/step - loss: 0.0605 - accuracy: 0.9821 - val_loss: 0.0719 - val_accuracy: 0.9788\n",
      "Epoch 20/30\n",
      "1719/1719 [==============================] - 3s 2ms/step - loss: 0.0590 - accuracy: 0.9828 - val_loss: 0.0738 - val_accuracy: 0.9822\n",
      "Epoch 21/30\n",
      "1719/1719 [==============================] - 3s 2ms/step - loss: 0.0603 - accuracy: 0.9825 - val_loss: 0.0616 - val_accuracy: 0.9814\n",
      "Epoch 22/30\n",
      "1719/1719 [==============================] - 3s 2ms/step - loss: 0.0580 - accuracy: 0.9834 - val_loss: 0.0725 - val_accuracy: 0.9788\n",
      "Epoch 23/30\n",
      "1719/1719 [==============================] - 3s 2ms/step - loss: 0.0535 - accuracy: 0.9846 - val_loss: 0.0612 - val_accuracy: 0.9828\n",
      "Epoch 24/30\n",
      "1719/1719 [==============================] - 4s 2ms/step - loss: 0.0539 - accuracy: 0.9836 - val_loss: 0.0652 - val_accuracy: 0.9816\n",
      "Epoch 25/30\n",
      "1719/1719 [==============================] - 3s 2ms/step - loss: 0.0538 - accuracy: 0.9842 - val_loss: 0.0626 - val_accuracy: 0.9810\n",
      "Epoch 26/30\n",
      "1719/1719 [==============================] - 3s 2ms/step - loss: 0.0523 - accuracy: 0.9840 - val_loss: 0.0584 - val_accuracy: 0.9842\n",
      "Epoch 27/30\n",
      "1719/1719 [==============================] - 3s 2ms/step - loss: 0.0498 - accuracy: 0.9850 - val_loss: 0.0579 - val_accuracy: 0.9816\n",
      "Epoch 28/30\n",
      "1719/1719 [==============================] - 3s 2ms/step - loss: 0.0471 - accuracy: 0.9863 - val_loss: 0.0644 - val_accuracy: 0.9846\n",
      "Epoch 29/30\n",
      "1719/1719 [==============================] - 4s 2ms/step - loss: 0.0468 - accuracy: 0.9863 - val_loss: 0.0598 - val_accuracy: 0.9806\n",
      "Epoch 30/30\n",
      "1719/1719 [==============================] - 3s 2ms/step - loss: 0.0444 - accuracy: 0.9869 - val_loss: 0.0560 - val_accuracy: 0.9842\n"
     ]
    }
   ],
   "source": [
    "history=model.fit(x_train,y_train,epochs=30,validation_data=(x_valid,y_valid))"
   ]
  },
  {
   "cell_type": "code",
   "execution_count": 14,
   "metadata": {},
   "outputs": [
    {
     "name": "stderr",
     "output_type": "stream",
     "text": [
      "C:\\Users\\Hakeem\\anaconda3\\lib\\site-packages\\tensorflow\\python\\keras\\engine\\sequential.py:450: UserWarning: `model.predict_classes()` is deprecated and will be removed after 2021-01-01. Please use instead:* `np.argmax(model.predict(x), axis=-1)`,   if your model does multi-class classification   (e.g. if it uses a `softmax` last-layer activation).* `(model.predict(x) > 0.5).astype(\"int32\")`,   if your model does binary classification   (e.g. if it uses a `sigmoid` last-layer activation).\n",
      "  warnings.warn('`model.predict_classes()` is deprecated and '\n"
     ]
    }
   ],
   "source": [
    "y_predict=model.predict_classes(testData)"
   ]
  },
  {
   "cell_type": "code",
   "execution_count": 15,
   "metadata": {},
   "outputs": [
    {
     "name": "stdout",
     "output_type": "stream",
     "text": [
      "success rate for this model is 97.8\n"
     ]
    }
   ],
   "source": [
    "count=0\n",
    "for i in range(len(y_predict)):\n",
    "    if(y_predict[i]==testLabel[i]):\n",
    "        count+=1\n",
    "sas=(count/len(y_predict))*100\n",
    "print(\"success rate for this model is \" +str(sas))"
   ]
  },
  {
   "cell_type": "markdown",
   "metadata": {},
   "source": [
    "# Model 2  loss function: \"kl_divergence/optimizer=\"sgd\""
   ]
  },
  {
   "cell_type": "code",
   "execution_count": 16,
   "metadata": {},
   "outputs": [
    {
     "name": "stdout",
     "output_type": "stream",
     "text": [
      "Epoch 1/30\n",
      "1719/1719 [==============================] - 4s 2ms/step - loss: 20.8212 - accuracy: 0.1176 - val_loss: 20.7246 - val_accuracy: 0.1042\n",
      "Epoch 2/30\n",
      "1719/1719 [==============================] - 4s 2ms/step - loss: 20.7341 - accuracy: 0.1079 - val_loss: 20.7240 - val_accuracy: 0.1040\n",
      "Epoch 3/30\n",
      "1719/1719 [==============================] - 4s 2ms/step - loss: 20.7640 - accuracy: 0.1034 - val_loss: 20.7238 - val_accuracy: 0.1064\n",
      "Epoch 4/30\n",
      "1719/1719 [==============================] - 3s 2ms/step - loss: 20.7319 - accuracy: 0.0977 - val_loss: 20.7237 - val_accuracy: 0.0976\n",
      "Epoch 5/30\n",
      "1719/1719 [==============================] - 4s 2ms/step - loss: 20.7242 - accuracy: 0.0948 - val_loss: 20.7236 - val_accuracy: 0.0974\n",
      "Epoch 6/30\n",
      "1719/1719 [==============================] - 4s 2ms/step - loss: 20.7111 - accuracy: 0.0901 - val_loss: 20.7235 - val_accuracy: 0.0982\n",
      "Epoch 7/30\n",
      "1719/1719 [==============================] - 3s 2ms/step - loss: 20.6974 - accuracy: 0.0885 - val_loss: 20.7235 - val_accuracy: 0.0978\n",
      "Epoch 8/30\n",
      "1719/1719 [==============================] - 4s 2ms/step - loss: 20.6886 - accuracy: 0.0894 - val_loss: 20.7235 - val_accuracy: 0.0990\n",
      "Epoch 9/30\n",
      "1719/1719 [==============================] - 3s 2ms/step - loss: 20.7314 - accuracy: 0.0923 - val_loss: 20.7235 - val_accuracy: 0.1022\n",
      "Epoch 10/30\n",
      "1719/1719 [==============================] - 3s 2ms/step - loss: 20.6805 - accuracy: 0.0892 - val_loss: 20.7234 - val_accuracy: 0.0962\n",
      "Epoch 11/30\n",
      "1719/1719 [==============================] - 3s 2ms/step - loss: 20.7146 - accuracy: 0.0878 - val_loss: 20.7234 - val_accuracy: 0.0982\n",
      "Epoch 12/30\n",
      "1719/1719 [==============================] - 4s 2ms/step - loss: 20.7132 - accuracy: 0.0863 - val_loss: 20.7234 - val_accuracy: 0.0966\n",
      "Epoch 13/30\n",
      "1719/1719 [==============================] - 3s 2ms/step - loss: 20.7437 - accuracy: 0.0905 - val_loss: 20.7234 - val_accuracy: 0.1006\n",
      "Epoch 14/30\n",
      "1719/1719 [==============================] - 3s 2ms/step - loss: 20.7255 - accuracy: 0.0894 - val_loss: 20.7234 - val_accuracy: 0.1002\n",
      "Epoch 15/30\n",
      "1719/1719 [==============================] - 3s 2ms/step - loss: 20.7623 - accuracy: 0.0867 - val_loss: 20.7234 - val_accuracy: 0.0986\n",
      "Epoch 16/30\n",
      "1719/1719 [==============================] - 3s 2ms/step - loss: 20.7693 - accuracy: 0.0890 - val_loss: 20.7233 - val_accuracy: 0.1016\n",
      "Epoch 17/30\n",
      "1719/1719 [==============================] - 4s 2ms/step - loss: 20.7029 - accuracy: 0.0876 - val_loss: 20.7233 - val_accuracy: 0.1054\n",
      "Epoch 18/30\n",
      "1719/1719 [==============================] - 3s 2ms/step - loss: 20.7046 - accuracy: 0.0871 - val_loss: 20.7233 - val_accuracy: 0.1030\n",
      "Epoch 19/30\n",
      "1719/1719 [==============================] - 3s 2ms/step - loss: 20.7140 - accuracy: 0.0906 - val_loss: 20.7233 - val_accuracy: 0.1028\n",
      "Epoch 20/30\n",
      "1719/1719 [==============================] - 3s 2ms/step - loss: 20.7524 - accuracy: 0.0894 - val_loss: 20.7233 - val_accuracy: 0.1044\n",
      "Epoch 21/30\n",
      "1719/1719 [==============================] - 4s 2ms/step - loss: 20.6970 - accuracy: 0.0941 - val_loss: 20.7233 - val_accuracy: 0.1032\n",
      "Epoch 22/30\n",
      "1719/1719 [==============================] - 4s 2ms/step - loss: 20.7404 - accuracy: 0.0906 - val_loss: 20.7233 - val_accuracy: 0.1028\n",
      "Epoch 23/30\n",
      "1719/1719 [==============================] - 4s 2ms/step - loss: 20.6899 - accuracy: 0.0918 - val_loss: 20.7233 - val_accuracy: 0.1020\n",
      "Epoch 24/30\n",
      "1719/1719 [==============================] - 3s 2ms/step - loss: 20.6982 - accuracy: 0.0911 - val_loss: 20.7233 - val_accuracy: 0.1026\n",
      "Epoch 25/30\n",
      "1719/1719 [==============================] - 4s 2ms/step - loss: 20.7628 - accuracy: 0.0904 - val_loss: 20.7233 - val_accuracy: 0.0996\n",
      "Epoch 26/30\n",
      "1719/1719 [==============================] - 4s 2ms/step - loss: 20.7126 - accuracy: 0.0945 - val_loss: 20.7233 - val_accuracy: 0.1032\n",
      "Epoch 27/30\n",
      "1719/1719 [==============================] - 3s 2ms/step - loss: 20.7118 - accuracy: 0.0948 - val_loss: 20.7233 - val_accuracy: 0.1040\n",
      "Epoch 28/30\n",
      "1719/1719 [==============================] - 3s 2ms/step - loss: 20.7099 - accuracy: 0.0933 - val_loss: 20.7233 - val_accuracy: 0.1042\n",
      "Epoch 29/30\n",
      "1719/1719 [==============================] - 3s 2ms/step - loss: 20.7260 - accuracy: 0.0959 - val_loss: 20.7233 - val_accuracy: 0.1032\n",
      "Epoch 30/30\n",
      "1719/1719 [==============================] - 4s 2ms/step - loss: 20.7601 - accuracy: 0.0956 - val_loss: 20.7233 - val_accuracy: 0.1048\n"
     ]
    }
   ],
   "source": [
    "model=keras.models.Sequential()\n",
    "model.add(keras.layers.Flatten(input_shape=[28,28]))\n",
    "model.add(keras.layers.Dense(300,activation=\"relu\"))\n",
    "model.add(keras.layers.Dense(100,activation=\"relu\"))\n",
    "model.add(keras.layers.Dense(10,activation=\"softmax\"))\n",
    "model.compile(loss=\"kl_divergence\",optimizer=\"sgd\",metrics=[\"accuracy\"])\n",
    "history=model.fit(x_train,y_train,epochs=30,validation_data=(x_valid,y_valid))"
   ]
  },
  {
   "cell_type": "code",
   "execution_count": 17,
   "metadata": {},
   "outputs": [
    {
     "name": "stdout",
     "output_type": "stream",
     "text": [
      "success rate for this model is 10.68\n"
     ]
    }
   ],
   "source": [
    "y_predict=model.predict_classes(testData)\n",
    "count=0\n",
    "for i in range(len(y_predict)):\n",
    "    if(y_predict[i]==testLabel[i]):\n",
    "        count+=1\n",
    "sak=(count/len(y_predict))*100\n",
    "print(\"success rate for this model is \" +str(sak))"
   ]
  },
  {
   "cell_type": "markdown",
   "metadata": {},
   "source": [
    "# Model 3  loss function: \"Poisson class/optimizer=\"sgd\""
   ]
  },
  {
   "cell_type": "code",
   "execution_count": 18,
   "metadata": {},
   "outputs": [
    {
     "name": "stdout",
     "output_type": "stream",
     "text": [
      "Epoch 1/30\n",
      "1719/1719 [==============================] - 4s 2ms/step - loss: 10.4785 - accuracy: 0.0873 - val_loss: 10.4646 - val_accuracy: 0.1034\n",
      "Epoch 2/30\n",
      "1719/1719 [==============================] - 4s 2ms/step - loss: 10.4682 - accuracy: 0.0995 - val_loss: 10.4634 - val_accuracy: 0.1080\n",
      "Epoch 3/30\n",
      "1719/1719 [==============================] - 4s 2ms/step - loss: 10.4554 - accuracy: 0.1009 - val_loss: 10.4629 - val_accuracy: 0.1140\n",
      "Epoch 4/30\n",
      "1719/1719 [==============================] - 4s 2ms/step - loss: 10.4743 - accuracy: 0.1012 - val_loss: 10.4626 - val_accuracy: 0.1104\n",
      "Epoch 5/30\n",
      "1719/1719 [==============================] - 3s 2ms/step - loss: 10.4577 - accuracy: 0.0993 - val_loss: 10.4624 - val_accuracy: 0.1066\n",
      "Epoch 6/30\n",
      "1719/1719 [==============================] - 3s 2ms/step - loss: 10.4728 - accuracy: 0.0974 - val_loss: 10.4623 - val_accuracy: 0.1092\n",
      "Epoch 7/30\n",
      "1719/1719 [==============================] - 3s 2ms/step - loss: 10.5168 - accuracy: 0.0968 - val_loss: 10.4622 - val_accuracy: 0.1060\n",
      "Epoch 8/30\n",
      "1719/1719 [==============================] - 3s 2ms/step - loss: 10.4458 - accuracy: 0.0942 - val_loss: 10.4621 - val_accuracy: 0.1058\n",
      "Epoch 9/30\n",
      "1719/1719 [==============================] - 4s 2ms/step - loss: 10.4424 - accuracy: 0.0943 - val_loss: 10.4621 - val_accuracy: 0.1086\n",
      "Epoch 10/30\n",
      "1719/1719 [==============================] - 3s 2ms/step - loss: 10.4332 - accuracy: 0.0952 - val_loss: 10.4620 - val_accuracy: 0.1010\n",
      "Epoch 11/30\n",
      "1719/1719 [==============================] - 3s 2ms/step - loss: 10.4878 - accuracy: 0.0954 - val_loss: 10.4620 - val_accuracy: 0.1086\n",
      "Epoch 12/30\n",
      "1719/1719 [==============================] - 3s 2ms/step - loss: 10.5158 - accuracy: 0.0976 - val_loss: 10.4619 - val_accuracy: 0.1074\n",
      "Epoch 13/30\n",
      "1719/1719 [==============================] - 3s 2ms/step - loss: 10.4566 - accuracy: 0.0941 - val_loss: 10.4619 - val_accuracy: 0.1100\n",
      "Epoch 14/30\n",
      "1719/1719 [==============================] - 4s 2ms/step - loss: 10.4984 - accuracy: 0.0929 - val_loss: 10.4619 - val_accuracy: 0.1106\n",
      "Epoch 15/30\n",
      "1719/1719 [==============================] - 3s 2ms/step - loss: 10.4284 - accuracy: 0.0952 - val_loss: 10.4619 - val_accuracy: 0.1048\n",
      "Epoch 16/30\n",
      "1719/1719 [==============================] - 3s 2ms/step - loss: 10.4659 - accuracy: 0.0939 - val_loss: 10.4619 - val_accuracy: 0.1072\n",
      "Epoch 17/30\n",
      "1719/1719 [==============================] - 3s 2ms/step - loss: 10.4540 - accuracy: 0.0949 - val_loss: 10.4618 - val_accuracy: 0.1056\n",
      "Epoch 18/30\n",
      "1719/1719 [==============================] - 4s 2ms/step - loss: 10.4430 - accuracy: 0.0941 - val_loss: 10.4618 - val_accuracy: 0.1124\n",
      "Epoch 19/30\n",
      "1719/1719 [==============================] - 3s 2ms/step - loss: 10.5069 - accuracy: 0.0967 - val_loss: 10.4618 - val_accuracy: 0.1102\n",
      "Epoch 20/30\n",
      "1719/1719 [==============================] - 3s 2ms/step - loss: 10.4109 - accuracy: 0.0970 - val_loss: 10.4618 - val_accuracy: 0.1054\n",
      "Epoch 21/30\n",
      "1719/1719 [==============================] - 4s 2ms/step - loss: 10.4904 - accuracy: 0.0944 - val_loss: 10.4618 - val_accuracy: 0.1068\n",
      "Epoch 22/30\n",
      "1719/1719 [==============================] - 3s 2ms/step - loss: 10.4554 - accuracy: 0.0956 - val_loss: 10.4618 - val_accuracy: 0.1072\n",
      "Epoch 23/30\n",
      "1719/1719 [==============================] - 4s 2ms/step - loss: 10.4277 - accuracy: 0.0940 - val_loss: 10.4618 - val_accuracy: 0.1110\n",
      "Epoch 24/30\n",
      "1719/1719 [==============================] - 3s 2ms/step - loss: 10.4445 - accuracy: 0.0953 - val_loss: 10.4618 - val_accuracy: 0.1054\n",
      "Epoch 25/30\n",
      "1719/1719 [==============================] - 3s 2ms/step - loss: 10.4618 - accuracy: 0.0937 - val_loss: 10.4618 - val_accuracy: 0.1048\n",
      "Epoch 26/30\n",
      "1719/1719 [==============================] - 3s 2ms/step - loss: 10.4291 - accuracy: 0.0953 - val_loss: 10.4618 - val_accuracy: 0.1094\n",
      "Epoch 27/30\n",
      "1719/1719 [==============================] - 4s 2ms/step - loss: 10.4805 - accuracy: 0.0943 - val_loss: 10.4617 - val_accuracy: 0.1072\n",
      "Epoch 28/30\n",
      "1719/1719 [==============================] - 4s 3ms/step - loss: 10.4113 - accuracy: 0.0950 - val_loss: 10.4617 - val_accuracy: 0.1078\n",
      "Epoch 29/30\n",
      "1719/1719 [==============================] - 4s 2ms/step - loss: 10.4314 - accuracy: 0.0954 - val_loss: 10.4617 - val_accuracy: 0.1060\n",
      "Epoch 30/30\n",
      "1719/1719 [==============================] - 4s 2ms/step - loss: 10.4696 - accuracy: 0.0968 - val_loss: 10.4617 - val_accuracy: 0.1070\n"
     ]
    }
   ],
   "source": [
    "model=keras.models.Sequential()\n",
    "model.add(keras.layers.Flatten(input_shape=[28,28]))\n",
    "model.add(keras.layers.Dense(300,activation=\"relu\"))\n",
    "model.add(keras.layers.Dense(100,activation=\"relu\"))\n",
    "model.add(keras.layers.Dense(10,activation=\"softmax\"))\n",
    "model.compile(loss=\"poisson\",optimizer=\"sgd\",metrics=[\"accuracy\"])\n",
    "history=model.fit(x_train,y_train,epochs=30,validation_data=(x_valid,y_valid))"
   ]
  },
  {
   "cell_type": "code",
   "execution_count": 19,
   "metadata": {},
   "outputs": [
    {
     "name": "stdout",
     "output_type": "stream",
     "text": [
      "success rate for this model is9.6\n"
     ]
    }
   ],
   "source": [
    "y_predict=model.predict_classes(testData)\n",
    "count=0\n",
    "for i in range(len(y_predict)):\n",
    "    if(y_predict[i]==testLabel[i]):\n",
    "        count+=1\n",
    "sap=(count/len(y_predict))*100\n",
    "print(\"success rate for this model is\" +str(sap))"
   ]
  },
  {
   "cell_type": "markdown",
   "metadata": {},
   "source": [
    "# Model 4 loss function: \"sparse_categorical_crossentropy/optimizer=\"Nadam\""
   ]
  },
  {
   "cell_type": "code",
   "execution_count": 20,
   "metadata": {},
   "outputs": [
    {
     "name": "stdout",
     "output_type": "stream",
     "text": [
      "Epoch 1/30\n",
      "1719/1719 [==============================] - 8s 4ms/step - loss: 0.6031 - accuracy: 0.8061 - val_loss: 0.1442 - val_accuracy: 0.9574\n",
      "Epoch 2/30\n",
      "1719/1719 [==============================] - 7s 4ms/step - loss: 0.1516 - accuracy: 0.9541 - val_loss: 0.1059 - val_accuracy: 0.9682\n",
      "Epoch 3/30\n",
      "1719/1719 [==============================] - 8s 4ms/step - loss: 0.1122 - accuracy: 0.9656 - val_loss: 0.0942 - val_accuracy: 0.9716\n",
      "Epoch 4/30\n",
      "1719/1719 [==============================] - 8s 5ms/step - loss: 0.1003 - accuracy: 0.9692 - val_loss: 0.0876 - val_accuracy: 0.9756\n",
      "Epoch 5/30\n",
      "1719/1719 [==============================] - 8s 5ms/step - loss: 0.0883 - accuracy: 0.9724 - val_loss: 0.0767 - val_accuracy: 0.9786\n",
      "Epoch 6/30\n",
      "1719/1719 [==============================] - 8s 4ms/step - loss: 0.0814 - accuracy: 0.9748 - val_loss: 0.0814 - val_accuracy: 0.9768\n",
      "Epoch 7/30\n",
      "1719/1719 [==============================] - 8s 5ms/step - loss: 0.0745 - accuracy: 0.9771 - val_loss: 0.0709 - val_accuracy: 0.9796\n",
      "Epoch 8/30\n",
      "1719/1719 [==============================] - 8s 5ms/step - loss: 0.0741 - accuracy: 0.9771 - val_loss: 0.0752 - val_accuracy: 0.9806\n",
      "Epoch 9/30\n",
      "1719/1719 [==============================] - 10s 6ms/step - loss: 0.0659 - accuracy: 0.9791 - val_loss: 0.0736 - val_accuracy: 0.9812\n",
      "Epoch 10/30\n",
      "1719/1719 [==============================] - 8s 5ms/step - loss: 0.0608 - accuracy: 0.9808 - val_loss: 0.0909 - val_accuracy: 0.9744\n",
      "Epoch 11/30\n",
      "1719/1719 [==============================] - 7s 4ms/step - loss: 0.0603 - accuracy: 0.9811 - val_loss: 0.0579 - val_accuracy: 0.9832\n",
      "Epoch 12/30\n",
      "1719/1719 [==============================] - 6s 4ms/step - loss: 0.0589 - accuracy: 0.9817 - val_loss: 0.0661 - val_accuracy: 0.9818\n",
      "Epoch 13/30\n",
      "1719/1719 [==============================] - 7s 4ms/step - loss: 0.0584 - accuracy: 0.9816 - val_loss: 0.0671 - val_accuracy: 0.9830\n",
      "Epoch 14/30\n",
      "1719/1719 [==============================] - 6s 4ms/step - loss: 0.0546 - accuracy: 0.9835 - val_loss: 0.0906 - val_accuracy: 0.9744\n",
      "Epoch 15/30\n",
      "1719/1719 [==============================] - 7s 4ms/step - loss: 0.0552 - accuracy: 0.9827 - val_loss: 0.0776 - val_accuracy: 0.9796\n",
      "Epoch 16/30\n",
      "1719/1719 [==============================] - 7s 4ms/step - loss: 0.0502 - accuracy: 0.9841 - val_loss: 0.0611 - val_accuracy: 0.9842\n",
      "Epoch 17/30\n",
      "1719/1719 [==============================] - 6s 4ms/step - loss: 0.0506 - accuracy: 0.9836 - val_loss: 0.0832 - val_accuracy: 0.9804\n",
      "Epoch 18/30\n",
      "1719/1719 [==============================] - 7s 4ms/step - loss: 0.0470 - accuracy: 0.9842 - val_loss: 0.0890 - val_accuracy: 0.9792\n",
      "Epoch 19/30\n",
      "1719/1719 [==============================] - 6s 4ms/step - loss: 0.0459 - accuracy: 0.9859 - val_loss: 0.0635 - val_accuracy: 0.9828\n",
      "Epoch 20/30\n",
      "1719/1719 [==============================] - 7s 4ms/step - loss: 0.0453 - accuracy: 0.9855 - val_loss: 0.0579 - val_accuracy: 0.9816\n",
      "Epoch 21/30\n",
      "1719/1719 [==============================] - 7s 4ms/step - loss: 0.0436 - accuracy: 0.9855 - val_loss: 0.0501 - val_accuracy: 0.9856\n",
      "Epoch 22/30\n",
      "1719/1719 [==============================] - 6s 4ms/step - loss: 0.0370 - accuracy: 0.9877 - val_loss: 0.0485 - val_accuracy: 0.9880\n",
      "Epoch 23/30\n",
      "1719/1719 [==============================] - 7s 4ms/step - loss: 0.0402 - accuracy: 0.9874 - val_loss: 0.0676 - val_accuracy: 0.9852\n",
      "Epoch 24/30\n",
      "1719/1719 [==============================] - 7s 4ms/step - loss: 0.0390 - accuracy: 0.9872 - val_loss: 0.0899 - val_accuracy: 0.9806\n",
      "Epoch 25/30\n",
      "1719/1719 [==============================] - 7s 4ms/step - loss: 0.0383 - accuracy: 0.9877 - val_loss: 0.0620 - val_accuracy: 0.9848\n",
      "Epoch 26/30\n",
      "1719/1719 [==============================] - 6s 4ms/step - loss: 0.0377 - accuracy: 0.9878 - val_loss: 0.0683 - val_accuracy: 0.9834\n",
      "Epoch 27/30\n",
      "1719/1719 [==============================] - 7s 4ms/step - loss: 0.0403 - accuracy: 0.9868 - val_loss: 0.0604 - val_accuracy: 0.9866\n",
      "Epoch 28/30\n",
      "1719/1719 [==============================] - 7s 4ms/step - loss: 0.0339 - accuracy: 0.9890 - val_loss: 0.0556 - val_accuracy: 0.9862\n",
      "Epoch 29/30\n",
      "1719/1719 [==============================] - 7s 4ms/step - loss: 0.0344 - accuracy: 0.9895 - val_loss: 0.0548 - val_accuracy: 0.9856\n",
      "Epoch 30/30\n",
      "1719/1719 [==============================] - 7s 4ms/step - loss: 0.0315 - accuracy: 0.9901 - val_loss: 0.0585 - val_accuracy: 0.9868\n"
     ]
    }
   ],
   "source": [
    "model=keras.models.Sequential()\n",
    "model.add(keras.layers.Flatten(input_shape=[28,28]))\n",
    "model.add(keras.layers.Dense(300,activation=\"relu\"))\n",
    "model.add(keras.layers.Dense(100,activation=\"relu\"))\n",
    "model.add(keras.layers.Dense(10,activation=\"softmax\"))\n",
    "model.compile(loss=\"sparse_categorical_crossentropy\",optimizer=\"Nadam\",metrics=[\"accuracy\"])\n",
    "history=model.fit(x_train,y_train,epochs=30,validation_data=(x_valid,y_valid))"
   ]
  },
  {
   "cell_type": "code",
   "execution_count": 21,
   "metadata": {},
   "outputs": [
    {
     "name": "stdout",
     "output_type": "stream",
     "text": [
      "success rate for this model is97.6\n"
     ]
    }
   ],
   "source": [
    "y_predict=model.predict_classes(testData)\n",
    "count=0\n",
    "for i in range(len(y_predict)):\n",
    "    if(y_predict[i]==testLabel[i]):\n",
    "        count+=1\n",
    "nas=(count/len(y_predict))*100\n",
    "print(\"success rate for this model is\" +str(nas))"
   ]
  },
  {
   "cell_type": "markdown",
   "metadata": {},
   "source": [
    "# Model 5 loss function: \"kl_divergence/optimizer=\"Nadam\""
   ]
  },
  {
   "cell_type": "code",
   "execution_count": 22,
   "metadata": {},
   "outputs": [
    {
     "name": "stdout",
     "output_type": "stream",
     "text": [
      "Epoch 1/30\n",
      "1719/1719 [==============================] - 7s 4ms/step - loss: 20.8309 - accuracy: 0.1080 - val_loss: 20.7239 - val_accuracy: 0.1050\n",
      "Epoch 2/30\n",
      "1719/1719 [==============================] - 8s 5ms/step - loss: 20.7003 - accuracy: 0.0910 - val_loss: 20.7233 - val_accuracy: 0.0826\n",
      "Epoch 3/30\n",
      "1719/1719 [==============================] - 7s 4ms/step - loss: 20.7664 - accuracy: 0.0856 - val_loss: 20.7233 - val_accuracy: 0.1046\n",
      "Epoch 4/30\n",
      "1719/1719 [==============================] - 7s 4ms/step - loss: 20.7004 - accuracy: 0.1019 - val_loss: 20.7233 - val_accuracy: 0.1166\n",
      "Epoch 5/30\n",
      "1719/1719 [==============================] - 6s 4ms/step - loss: 20.6989 - accuracy: 0.1016 - val_loss: 20.7233 - val_accuracy: 0.1132\n",
      "Epoch 6/30\n",
      "1719/1719 [==============================] - 6s 4ms/step - loss: 20.6936 - accuracy: 0.0993 - val_loss: 20.7233 - val_accuracy: 0.0850\n",
      "Epoch 7/30\n",
      "1719/1719 [==============================] - 7s 4ms/step - loss: 20.7503 - accuracy: 0.1013 - val_loss: 20.7233 - val_accuracy: 0.0848\n",
      "Epoch 8/30\n",
      "1719/1719 [==============================] - 6s 4ms/step - loss: 20.7327 - accuracy: 0.1066 - val_loss: 20.7233 - val_accuracy: 0.1000\n",
      "Epoch 9/30\n",
      "1719/1719 [==============================] - 7s 4ms/step - loss: 20.6984 - accuracy: 0.1010 - val_loss: 20.7233 - val_accuracy: 0.0698\n",
      "Epoch 10/30\n",
      "1719/1719 [==============================] - 6s 4ms/step - loss: 20.7374 - accuracy: 0.1001 - val_loss: 20.7233 - val_accuracy: 0.1002\n",
      "Epoch 11/30\n",
      "1719/1719 [==============================] - 6s 4ms/step - loss: 20.7190 - accuracy: 0.0994 - val_loss: 20.7233 - val_accuracy: 0.1000\n",
      "Epoch 12/30\n",
      "1719/1719 [==============================] - 7s 4ms/step - loss: 20.7097 - accuracy: 0.0916 - val_loss: 20.7233 - val_accuracy: 0.1002\n",
      "Epoch 13/30\n",
      "1719/1719 [==============================] - 6s 4ms/step - loss: 20.7343 - accuracy: 0.1002 - val_loss: 20.7233 - val_accuracy: 0.1000\n",
      "Epoch 14/30\n",
      "1719/1719 [==============================] - 6s 4ms/step - loss: 20.7213 - accuracy: 0.0990 - val_loss: 20.7233 - val_accuracy: 0.1002\n",
      "Epoch 15/30\n",
      "1719/1719 [==============================] - 6s 4ms/step - loss: 20.7443 - accuracy: 0.0930 - val_loss: 20.7233 - val_accuracy: 0.1002\n",
      "Epoch 16/30\n",
      "1719/1719 [==============================] - 6s 4ms/step - loss: 20.7242 - accuracy: 0.0977 - val_loss: 20.7233 - val_accuracy: 0.1000\n",
      "Epoch 17/30\n",
      "1719/1719 [==============================] - 7s 4ms/step - loss: 20.7442 - accuracy: 0.0997 - val_loss: 20.7233 - val_accuracy: 0.1000\n",
      "Epoch 18/30\n",
      "1719/1719 [==============================] - 6s 4ms/step - loss: 20.6975 - accuracy: 0.0953 - val_loss: 20.7233 - val_accuracy: 0.1002\n",
      "Epoch 19/30\n",
      "1719/1719 [==============================] - 7s 4ms/step - loss: 20.6864 - accuracy: 0.0981 - val_loss: 20.7233 - val_accuracy: 0.1002\n",
      "Epoch 20/30\n",
      "1719/1719 [==============================] - 6s 4ms/step - loss: 20.7681 - accuracy: 0.0979 - val_loss: 20.7233 - val_accuracy: 0.0818\n",
      "Epoch 21/30\n",
      "1719/1719 [==============================] - 6s 4ms/step - loss: 20.6892 - accuracy: 0.0950 - val_loss: 20.7233 - val_accuracy: 0.1002\n",
      "Epoch 22/30\n",
      "1719/1719 [==============================] - 7s 4ms/step - loss: 20.7337 - accuracy: 0.0969 - val_loss: 20.7233 - val_accuracy: 0.1002\n",
      "Epoch 23/30\n",
      "1719/1719 [==============================] - 6s 4ms/step - loss: 20.7728 - accuracy: 0.0977 - val_loss: 20.7233 - val_accuracy: 0.1002\n",
      "Epoch 24/30\n",
      "1719/1719 [==============================] - 7s 4ms/step - loss: 20.7182 - accuracy: 0.1001 - val_loss: 20.7233 - val_accuracy: 0.1002\n",
      "Epoch 25/30\n",
      "1719/1719 [==============================] - 6s 4ms/step - loss: 20.7068 - accuracy: 0.0991 - val_loss: 20.7233 - val_accuracy: 0.1002\n",
      "Epoch 26/30\n",
      "1719/1719 [==============================] - 6s 4ms/step - loss: 20.6930 - accuracy: 0.1015 - val_loss: 20.7233 - val_accuracy: 0.1002\n",
      "Epoch 27/30\n",
      "1719/1719 [==============================] - 7s 4ms/step - loss: 20.6800 - accuracy: 0.0981 - val_loss: 20.7233 - val_accuracy: 0.1002\n",
      "Epoch 28/30\n",
      "1719/1719 [==============================] - 6s 4ms/step - loss: 20.7359 - accuracy: 0.0986 - val_loss: 20.7233 - val_accuracy: 0.1002\n",
      "Epoch 29/30\n",
      "1719/1719 [==============================] - 7s 4ms/step - loss: 20.7289 - accuracy: 0.0972 - val_loss: 20.7233 - val_accuracy: 0.1002\n",
      "Epoch 30/30\n",
      "1719/1719 [==============================] - 6s 4ms/step - loss: 20.7562 - accuracy: 0.1029 - val_loss: 20.7233 - val_accuracy: 0.1002\n"
     ]
    }
   ],
   "source": [
    "model=keras.models.Sequential()\n",
    "model.add(keras.layers.Flatten(input_shape=[28,28]))\n",
    "model.add(keras.layers.Dense(300,activation=\"relu\"))\n",
    "model.add(keras.layers.Dense(100,activation=\"relu\"))\n",
    "model.add(keras.layers.Dense(10,activation=\"softmax\"))\n",
    "model.compile(loss=\"kl_divergence\",optimizer=\"Nadam\",metrics=[\"accuracy\"])\n",
    "history=model.fit(x_train,y_train,epochs=30,validation_data=(x_valid,y_valid))"
   ]
  },
  {
   "cell_type": "code",
   "execution_count": 23,
   "metadata": {},
   "outputs": [
    {
     "name": "stdout",
     "output_type": "stream",
     "text": [
      "success rate for this model is 9.9\n"
     ]
    }
   ],
   "source": [
    "y_predict=model.predict_classes(testData)\n",
    "count=0\n",
    "for i in range(len(y_predict)):\n",
    "    if(y_predict[i]==testLabel[i]):\n",
    "        count+=1\n",
    "nak=(count/len(y_predict))*100\n",
    "print(\"success rate for this model is \" +str(nak))"
   ]
  },
  {
   "cell_type": "markdown",
   "metadata": {},
   "source": [
    "# Model 6 loss function: \"Poisson class/optimizer=\"Nadam\""
   ]
  },
  {
   "cell_type": "code",
   "execution_count": 24,
   "metadata": {},
   "outputs": [
    {
     "name": "stdout",
     "output_type": "stream",
     "text": [
      "Epoch 1/30\n",
      "1719/1719 [==============================] - 10s 5ms/step - loss: 10.4822 - accuracy: 0.0951 - val_loss: 10.4616 - val_accuracy: 0.1004\n",
      "Epoch 2/30\n",
      "1719/1719 [==============================] - 8s 5ms/step - loss: 10.4633 - accuracy: 0.0959 - val_loss: 10.4616 - val_accuracy: 0.1004\n",
      "Epoch 3/30\n",
      "1719/1719 [==============================] - 9s 5ms/step - loss: 10.4903 - accuracy: 0.0996 - val_loss: 10.4616 - val_accuracy: 0.1006A: 0s - loss: 10.4923 - \n",
      "Epoch 4/30\n",
      "1719/1719 [==============================] - 7s 4ms/step - loss: 10.4503 - accuracy: 0.0980 - val_loss: 10.4616 - val_accuracy: 0.1004\n",
      "Epoch 5/30\n",
      "1719/1719 [==============================] - 9s 5ms/step - loss: 10.4685 - accuracy: 0.1024 - val_loss: 10.4616 - val_accuracy: 0.1004\n",
      "Epoch 6/30\n",
      "1719/1719 [==============================] - 6s 4ms/step - loss: 10.4320 - accuracy: 0.1036 - val_loss: 10.4616 - val_accuracy: 0.0950\n",
      "Epoch 7/30\n",
      "1719/1719 [==============================] - 9s 5ms/step - loss: 10.4469 - accuracy: 0.0956 - val_loss: 10.4616 - val_accuracy: 0.0972\n",
      "Epoch 8/30\n",
      "1719/1719 [==============================] - 9s 5ms/step - loss: 10.4624 - accuracy: 0.0974 - val_loss: 10.4616 - val_accuracy: 0.1004\n",
      "Epoch 9/30\n",
      "1719/1719 [==============================] - 9s 5ms/step - loss: 10.4357 - accuracy: 0.1007 - val_loss: 10.4616 - val_accuracy: 0.1004 - loss: 10.43\n",
      "Epoch 10/30\n",
      "1719/1719 [==============================] - 6s 4ms/step - loss: 10.4869 - accuracy: 0.0995 - val_loss: 10.4616 - val_accuracy: 0.1004\n",
      "Epoch 11/30\n",
      "1719/1719 [==============================] - 9s 5ms/step - loss: 10.4905 - accuracy: 0.0996 - val_loss: 10.4616 - val_accuracy: 0.1004\n",
      "Epoch 12/30\n",
      "1719/1719 [==============================] - 9s 5ms/step - loss: 10.4365 - accuracy: 0.1028 - val_loss: 10.4616 - val_accuracy: 0.1004\n",
      "Epoch 13/30\n",
      "1719/1719 [==============================] - 11s 6ms/step - loss: 10.4130 - accuracy: 0.0992 - val_loss: 10.4616 - val_accuracy: 0.1004 - loss: 10.4097 - \n",
      "Epoch 14/30\n",
      "1719/1719 [==============================] - 7s 4ms/step - loss: 10.4694 - accuracy: 0.1012 - val_loss: 10.4616 - val_accuracy: 0.1004\n",
      "Epoch 15/30\n",
      "1719/1719 [==============================] - 7s 4ms/step - loss: 10.4685 - accuracy: 0.0983 - val_loss: 10.4616 - val_accuracy: 0.1004\n",
      "Epoch 16/30\n",
      "1719/1719 [==============================] - 7s 4ms/step - loss: 10.5163 - accuracy: 0.1027 - val_loss: 10.4616 - val_accuracy: 0.1004\n",
      "Epoch 17/30\n",
      "1719/1719 [==============================] - 9s 5ms/step - loss: 10.4586 - accuracy: 0.1051 - val_loss: 10.4616 - val_accuracy: 0.1004\n",
      "Epoch 18/30\n",
      "1719/1719 [==============================] - 6s 4ms/step - loss: 10.4481 - accuracy: 0.1010 - val_loss: 10.4616 - val_accuracy: 0.1004\n",
      "Epoch 19/30\n",
      "1719/1719 [==============================] - 11s 6ms/step - loss: 10.4412 - accuracy: 0.0974 - val_loss: 10.4616 - val_accuracy: 0.1004s - loss: 10.4403 - accur - ETA: 0s - loss: 10.\n",
      "Epoch 20/30\n",
      "1719/1719 [==============================] - 7s 4ms/step - loss: 10.4662 - accuracy: 0.1005 - val_loss: 10.4616 - val_accuracy: 0.1002\n",
      "Epoch 21/30\n",
      "1719/1719 [==============================] - 11s 6ms/step - loss: 10.4596 - accuracy: 0.1018 - val_loss: 10.4616 - val_accuracy: 0.0970\n",
      "Epoch 22/30\n",
      "1719/1719 [==============================] - 7s 4ms/step - loss: 10.5287 - accuracy: 0.0993 - val_loss: 10.4616 - val_accuracy: 0.1004\n",
      "Epoch 23/30\n",
      "1719/1719 [==============================] - 9s 5ms/step - loss: 10.4421 - accuracy: 0.0969 - val_loss: 10.4616 - val_accuracy: 0.1004\n",
      "Epoch 24/30\n",
      "1719/1719 [==============================] - 7s 4ms/step - loss: 10.4636 - accuracy: 0.0993 - val_loss: 10.4616 - val_accuracy: 0.1004\n",
      "Epoch 25/30\n",
      "1719/1719 [==============================] - 9s 5ms/step - loss: 10.4215 - accuracy: 0.0985 - val_loss: 10.4616 - val_accuracy: 0.1004\n",
      "Epoch 26/30\n",
      "1719/1719 [==============================] - 7s 4ms/step - loss: 10.4671 - accuracy: 0.0995 - val_loss: 10.4616 - val_accuracy: 0.1002\n",
      "Epoch 27/30\n",
      "1719/1719 [==============================] - 9s 5ms/step - loss: 10.4816 - accuracy: 0.1007 - val_loss: 10.4616 - val_accuracy: 0.1004 10.4838 - accuracy: 0 - ETA: 1s - loss: 10.4838 -\n",
      "Epoch 28/30\n",
      "1719/1719 [==============================] - 6s 4ms/step - loss: 10.4380 - accuracy: 0.1008 - val_loss: 10.4616 - val_accuracy: 0.1002\n",
      "Epoch 29/30\n",
      "1719/1719 [==============================] - 9s 5ms/step - loss: 10.4931 - accuracy: 0.0996 - val_loss: 10.4616 - val_accuracy: 0.1004\n",
      "Epoch 30/30\n",
      "1719/1719 [==============================] - 7s 4ms/step - loss: 10.4218 - accuracy: 0.0974 - val_loss: 10.4616 - val_accuracy: 0.1004\n"
     ]
    }
   ],
   "source": [
    "model=keras.models.Sequential()\n",
    "model.add(keras.layers.Flatten(input_shape=[28,28]))\n",
    "model.add(keras.layers.Dense(300,activation=\"relu\"))\n",
    "model.add(keras.layers.Dense(100,activation=\"relu\"))\n",
    "model.add(keras.layers.Dense(10,activation=\"softmax\"))\n",
    "model.compile(loss=\"poisson\",optimizer=\"Nadam\",metrics=[\"accuracy\"])\n",
    "history=model.fit(x_train,y_train,epochs=30,validation_data=(x_valid,y_valid))"
   ]
  },
  {
   "cell_type": "code",
   "execution_count": 25,
   "metadata": {},
   "outputs": [
    {
     "name": "stdout",
     "output_type": "stream",
     "text": [
      "success rate for this model is10.02\n"
     ]
    }
   ],
   "source": [
    "y_predict=model.predict_classes(testData)\n",
    "count=0\n",
    "for i in range(len(y_predict)):\n",
    "    if(y_predict[i]==testLabel[i]):\n",
    "        count+=1\n",
    "nap=(count/len(y_predict))*100\n",
    "print(\"success rate for this model is\" +str(nap))"
   ]
  },
  {
   "cell_type": "markdown",
   "metadata": {},
   "source": [
    "# Model 7 loss function: \"sparse_categorical_crossentropy/optimizer=\"RMSprop\""
   ]
  },
  {
   "cell_type": "code",
   "execution_count": 26,
   "metadata": {},
   "outputs": [
    {
     "name": "stdout",
     "output_type": "stream",
     "text": [
      "Epoch 1/30\n",
      "1719/1719 [==============================] - 8s 4ms/step - loss: 0.8867 - accuracy: 0.7103 - val_loss: 0.2825 - val_accuracy: 0.9092\n",
      "Epoch 2/30\n",
      "1719/1719 [==============================] - 5s 3ms/step - loss: 0.2307 - accuracy: 0.9302 - val_loss: 0.2306 - val_accuracy: 0.9352\n",
      "Epoch 3/30\n",
      "1719/1719 [==============================] - 7s 4ms/step - loss: 0.1744 - accuracy: 0.9480 - val_loss: 0.1374 - val_accuracy: 0.9646\n",
      "Epoch 4/30\n",
      "1719/1719 [==============================] - 7s 4ms/step - loss: 0.1529 - accuracy: 0.9543 - val_loss: 0.1416 - val_accuracy: 0.9598\n",
      "Epoch 5/30\n",
      "1719/1719 [==============================] - 8s 4ms/step - loss: 0.1468 - accuracy: 0.9578 - val_loss: 0.0939 - val_accuracy: 0.9792\n",
      "Epoch 6/30\n",
      "1719/1719 [==============================] - 7s 4ms/step - loss: 0.1454 - accuracy: 0.9597 - val_loss: 0.1500 - val_accuracy: 0.9644\n",
      "Epoch 7/30\n",
      "1719/1719 [==============================] - 7s 4ms/step - loss: 0.1401 - accuracy: 0.9627 - val_loss: 0.1211 - val_accuracy: 0.9702\n",
      "Epoch 8/30\n",
      "1719/1719 [==============================] - 5s 3ms/step - loss: 0.1379 - accuracy: 0.9648 - val_loss: 0.1326 - val_accuracy: 0.9732\n",
      "Epoch 9/30\n",
      "1719/1719 [==============================] - 7s 4ms/step - loss: 0.1414 - accuracy: 0.9653 - val_loss: 0.5091 - val_accuracy: 0.8114\n",
      "Epoch 10/30\n",
      "1719/1719 [==============================] - 5s 3ms/step - loss: 0.1410 - accuracy: 0.9633 - val_loss: 0.1317 - val_accuracy: 0.9712\n",
      "Epoch 11/30\n",
      "1719/1719 [==============================] - 7s 4ms/step - loss: 0.1342 - accuracy: 0.9659 - val_loss: 0.1325 - val_accuracy: 0.9706\n",
      "Epoch 12/30\n",
      "1719/1719 [==============================] - 5s 3ms/step - loss: 0.1453 - accuracy: 0.9668 - val_loss: 0.1202 - val_accuracy: 0.9730\n",
      "Epoch 13/30\n",
      "1719/1719 [==============================] - 7s 4ms/step - loss: 0.1469 - accuracy: 0.9669 - val_loss: 0.1254 - val_accuracy: 0.9704\n",
      "Epoch 14/30\n",
      "1719/1719 [==============================] - 7s 4ms/step - loss: 0.1427 - accuracy: 0.9682 - val_loss: 0.2138 - val_accuracy: 0.9722\n",
      "Epoch 15/30\n",
      "1719/1719 [==============================] - 5s 3ms/step - loss: 0.1469 - accuracy: 0.9681 - val_loss: 0.1620 - val_accuracy: 0.9592\n",
      "Epoch 16/30\n",
      "1719/1719 [==============================] - 5s 3ms/step - loss: 0.1403 - accuracy: 0.9697 - val_loss: 0.1795 - val_accuracy: 0.9740\n",
      "Epoch 17/30\n",
      "1719/1719 [==============================] - 9s 5ms/step - loss: 0.1431 - accuracy: 0.9689 - val_loss: 0.1326 - val_accuracy: 0.9786\n",
      "Epoch 18/30\n",
      "1719/1719 [==============================] - 7s 4ms/step - loss: 0.1477 - accuracy: 0.9683 - val_loss: 0.1689 - val_accuracy: 0.9782\n",
      "Epoch 19/30\n",
      "1719/1719 [==============================] - 5s 3ms/step - loss: 0.1466 - accuracy: 0.9697 - val_loss: 0.1368 - val_accuracy: 0.9780\n",
      "Epoch 20/30\n",
      "1719/1719 [==============================] - 7s 4ms/step - loss: 0.1514 - accuracy: 0.9699 - val_loss: 0.1885 - val_accuracy: 0.9688\n",
      "Epoch 21/30\n",
      "1719/1719 [==============================] - 5s 3ms/step - loss: 0.1467 - accuracy: 0.9702 - val_loss: 0.1159 - val_accuracy: 0.9794\n",
      "Epoch 22/30\n",
      "1719/1719 [==============================] - 7s 4ms/step - loss: 0.1488 - accuracy: 0.9722 - val_loss: 0.2186 - val_accuracy: 0.9712\n",
      "Epoch 23/30\n",
      "1719/1719 [==============================] - 7s 4ms/step - loss: 0.1543 - accuracy: 0.9723 - val_loss: 0.2212 - val_accuracy: 0.9746\n",
      "Epoch 24/30\n",
      "1719/1719 [==============================] - 7s 4ms/step - loss: 0.1443 - accuracy: 0.9724 - val_loss: 0.2910 - val_accuracy: 0.9650\n",
      "Epoch 25/30\n",
      "1719/1719 [==============================] - 5s 3ms/step - loss: 0.1413 - accuracy: 0.9715 - val_loss: 0.2077 - val_accuracy: 0.9748\n",
      "Epoch 26/30\n",
      "1719/1719 [==============================] - 7s 4ms/step - loss: 0.1558 - accuracy: 0.9720 - val_loss: 0.1743 - val_accuracy: 0.9740\n",
      "Epoch 27/30\n",
      "1719/1719 [==============================] - 5s 3ms/step - loss: 0.1498 - accuracy: 0.9712 - val_loss: 0.1273 - val_accuracy: 0.9774\n",
      "Epoch 28/30\n",
      "1719/1719 [==============================] - 7s 4ms/step - loss: 0.1552 - accuracy: 0.9722 - val_loss: 0.1720 - val_accuracy: 0.9696\n",
      "Epoch 29/30\n",
      "1719/1719 [==============================] - 7s 4ms/step - loss: 0.1404 - accuracy: 0.9735 - val_loss: 0.1512 - val_accuracy: 0.9792\n",
      "Epoch 30/30\n",
      "1719/1719 [==============================] - 5s 3ms/step - loss: 0.1454 - accuracy: 0.9730 - val_loss: 0.1626 - val_accuracy: 0.9790\n"
     ]
    }
   ],
   "source": [
    "model=keras.models.Sequential()\n",
    "model.add(keras.layers.Flatten(input_shape=[28,28]))\n",
    "model.add(keras.layers.Dense(300,activation=\"relu\"))\n",
    "model.add(keras.layers.Dense(100,activation=\"relu\"))\n",
    "model.add(keras.layers.Dense(10,activation=\"softmax\"))\n",
    "model.compile(loss=\"sparse_categorical_crossentropy\",optimizer=\"RMSprop\",metrics=[\"accuracy\"])\n",
    "history=model.fit(x_train,y_train,epochs=30,validation_data=(x_valid,y_valid))"
   ]
  },
  {
   "cell_type": "code",
   "execution_count": 27,
   "metadata": {},
   "outputs": [
    {
     "name": "stdout",
     "output_type": "stream",
     "text": [
      "success rate for this model is96.93\n"
     ]
    }
   ],
   "source": [
    "y_predict=model.predict_classes(testData)\n",
    "count=0\n",
    "for i in range(len(y_predict)):\n",
    "    if(y_predict[i]==testLabel[i]):\n",
    "        count+=1\n",
    "ras=(count/len(y_predict))*100\n",
    "print(\"success rate for this model is\" +str(ras))"
   ]
  },
  {
   "cell_type": "markdown",
   "metadata": {},
   "source": [
    "# Model 8 loss function: \"kl_divergence/optimizer=\"RMSprop\""
   ]
  },
  {
   "cell_type": "code",
   "execution_count": 28,
   "metadata": {},
   "outputs": [
    {
     "name": "stdout",
     "output_type": "stream",
     "text": [
      "Epoch 1/30\n",
      "1719/1719 [==============================] - 6s 3ms/step - loss: 20.9270 - accuracy: 0.1007 - val_loss: 20.7233 - val_accuracy: 0.0976\n",
      "Epoch 2/30\n",
      "1719/1719 [==============================] - 7s 4ms/step - loss: 20.7418 - accuracy: 0.1013 - val_loss: 20.7233 - val_accuracy: 0.1004\n",
      "Epoch 3/30\n",
      "1719/1719 [==============================] - 5s 3ms/step - loss: 20.6896 - accuracy: 0.1000 - val_loss: 20.7233 - val_accuracy: 0.0974\n",
      "Epoch 4/30\n",
      "1719/1719 [==============================] - 7s 4ms/step - loss: 20.7434 - accuracy: 0.0961 - val_loss: 20.7233 - val_accuracy: 0.1004\n",
      "Epoch 5/30\n",
      "1719/1719 [==============================] - 5s 3ms/step - loss: 20.6947 - accuracy: 0.0984 - val_loss: 20.7233 - val_accuracy: 0.0974\n",
      "Epoch 6/30\n",
      "1719/1719 [==============================] - 7s 4ms/step - loss: 20.7106 - accuracy: 0.1017 - val_loss: 20.7233 - val_accuracy: 0.1000\n",
      "Epoch 7/30\n",
      "1719/1719 [==============================] - 7s 4ms/step - loss: 20.7219 - accuracy: 0.1000 - val_loss: 20.7233 - val_accuracy: 0.1000\n",
      "Epoch 8/30\n",
      "1719/1719 [==============================] - 5s 3ms/step - loss: 20.6994 - accuracy: 0.0956 - val_loss: 20.7233 - val_accuracy: 0.1002\n",
      "Epoch 9/30\n",
      "1719/1719 [==============================] - 7s 4ms/step - loss: 20.6908 - accuracy: 0.1008 - val_loss: 20.7233 - val_accuracy: 0.0972\n",
      "Epoch 10/30\n",
      "1719/1719 [==============================] - 5s 3ms/step - loss: 20.7690 - accuracy: 0.1004 - val_loss: 20.7233 - val_accuracy: 0.1002\n",
      "Epoch 11/30\n",
      "1719/1719 [==============================] - 5s 3ms/step - loss: 20.7623 - accuracy: 0.0997 - val_loss: 20.7233 - val_accuracy: 0.1002\n",
      "Epoch 12/30\n",
      "1719/1719 [==============================] - 7s 4ms/step - loss: 20.7200 - accuracy: 0.1009 - val_loss: 20.7233 - val_accuracy: 0.1002\n",
      "Epoch 13/30\n",
      "1719/1719 [==============================] - 5s 3ms/step - loss: 20.7160 - accuracy: 0.0978 - val_loss: 20.7233 - val_accuracy: 0.1000\n",
      "Epoch 14/30\n",
      "1719/1719 [==============================] - 5s 3ms/step - loss: 20.6772 - accuracy: 0.1017 - val_loss: 20.7233 - val_accuracy: 0.1002\n",
      "Epoch 15/30\n",
      "1719/1719 [==============================] - 9s 5ms/step - loss: 20.7020 - accuracy: 0.1001 - val_loss: 20.7233 - val_accuracy: 0.0998\n",
      "Epoch 16/30\n",
      "1719/1719 [==============================] - 5s 3ms/step - loss: 20.7637 - accuracy: 0.0982 - val_loss: 20.7233 - val_accuracy: 0.1002\n",
      "Epoch 17/30\n",
      "1719/1719 [==============================] - 7s 4ms/step - loss: 20.7518 - accuracy: 0.1001 - val_loss: 20.7233 - val_accuracy: 0.100020\n",
      "Epoch 18/30\n",
      "1719/1719 [==============================] - 5s 3ms/step - loss: 20.7552 - accuracy: 0.0985 - val_loss: 20.7233 - val_accuracy: 0.1002\n",
      "Epoch 19/30\n",
      "1719/1719 [==============================] - 7s 4ms/step - loss: 20.6862 - accuracy: 0.0971 - val_loss: 20.7233 - val_accuracy: 0.1002\n",
      "Epoch 20/30\n",
      "1719/1719 [==============================] - 5s 3ms/step - loss: 20.7751 - accuracy: 0.0990 - val_loss: 20.7233 - val_accuracy: 0.1000\n",
      "Epoch 21/30\n",
      "1719/1719 [==============================] - 7s 4ms/step - loss: 20.7532 - accuracy: 0.0980 - val_loss: 20.7233 - val_accuracy: 0.0972\n",
      "Epoch 22/30\n",
      "1719/1719 [==============================] - 7s 4ms/step - loss: 20.7082 - accuracy: 0.1014 - val_loss: 20.7233 - val_accuracy: 0.1000 loss: 20.7079 - accuracy: 0\n",
      "Epoch 23/30\n",
      "1719/1719 [==============================] - 5s 3ms/step - loss: 20.7315 - accuracy: 0.0989 - val_loss: 20.7233 - val_accuracy: 0.0974\n",
      "Epoch 24/30\n",
      "1719/1719 [==============================] - 7s 4ms/step - loss: 20.7225 - accuracy: 0.0979 - val_loss: 20.7233 - val_accuracy: 0.1002\n",
      "Epoch 25/30\n",
      "1719/1719 [==============================] - 7s 4ms/step - loss: 20.6606 - accuracy: 0.1000 - val_loss: 20.7233 - val_accuracy: 0.0974\n",
      "Epoch 26/30\n",
      "1719/1719 [==============================] - 7s 4ms/step - loss: 20.6959 - accuracy: 0.0990 - val_loss: 20.7233 - val_accuracy: 0.1002\n",
      "Epoch 27/30\n",
      "1719/1719 [==============================] - 7s 4ms/step - loss: 20.7440 - accuracy: 0.1000 - val_loss: 20.7233 - val_accuracy: 0.0972\n",
      "Epoch 28/30\n",
      "1719/1719 [==============================] - 5s 3ms/step - loss: 20.7459 - accuracy: 0.1002 - val_loss: 20.7233 - val_accuracy: 0.1002\n",
      "Epoch 29/30\n",
      "1719/1719 [==============================] - 5s 3ms/step - loss: 20.7415 - accuracy: 0.0984 - val_loss: 20.7233 - val_accuracy: 0.1002\n",
      "Epoch 30/30\n",
      "1719/1719 [==============================] - 7s 4ms/step - loss: 20.7586 - accuracy: 0.1037 - val_loss: 20.7233 - val_accuracy: 0.1000\n"
     ]
    }
   ],
   "source": [
    "model=keras.models.Sequential()\n",
    "model.add(keras.layers.Flatten(input_shape=[28,28]))\n",
    "model.add(keras.layers.Dense(300,activation=\"relu\"))\n",
    "model.add(keras.layers.Dense(100,activation=\"relu\"))\n",
    "model.add(keras.layers.Dense(10,activation=\"softmax\"))\n",
    "model.compile(loss=\"kl_divergence\",optimizer=\"RMSprop\",metrics=[\"accuracy\"])\n",
    "history=model.fit(x_train,y_train,epochs=30,validation_data=(x_valid,y_valid))"
   ]
  },
  {
   "cell_type": "code",
   "execution_count": 29,
   "metadata": {},
   "outputs": [
    {
     "name": "stdout",
     "output_type": "stream",
     "text": [
      "success rate for this model is10.280000000000001\n"
     ]
    }
   ],
   "source": [
    "y_predict=model.predict_classes(testData)\n",
    "count=0\n",
    "for i in range(len(y_predict)):\n",
    "    if(y_predict[i]==testLabel[i]):\n",
    "        count+=1\n",
    "rak=(count/len(y_predict))*100\n",
    "print(\"success rate for this model is\" +str(rak))"
   ]
  },
  {
   "cell_type": "markdown",
   "metadata": {},
   "source": [
    "# Model 9 loss function: \"Poisson class/optimizer=\"RMSprop\""
   ]
  },
  {
   "cell_type": "code",
   "execution_count": 30,
   "metadata": {},
   "outputs": [
    {
     "name": "stdout",
     "output_type": "stream",
     "text": [
      "Epoch 1/30\n",
      "1719/1719 [==============================] - 6s 3ms/step - loss: 10.6189 - accuracy: 0.0944 - val_loss: 10.4616 - val_accuracy: 0.1042\n",
      "Epoch 2/30\n",
      "1719/1719 [==============================] - 7s 4ms/step - loss: 10.4611 - accuracy: 0.1018 - val_loss: 10.4616 - val_accuracy: 0.1002\n",
      "Epoch 3/30\n",
      "1719/1719 [==============================] - 5s 3ms/step - loss: 10.4638 - accuracy: 0.1032 - val_loss: 10.4616 - val_accuracy: 0.1000\n",
      "Epoch 4/30\n",
      "1719/1719 [==============================] - 5s 3ms/step - loss: 10.4585 - accuracy: 0.0962 - val_loss: 10.4616 - val_accuracy: 0.1002\n",
      "Epoch 5/30\n",
      "1719/1719 [==============================] - 7s 4ms/step - loss: 10.4805 - accuracy: 0.0989 - val_loss: 10.4616 - val_accuracy: 0.1000\n",
      "Epoch 6/30\n",
      "1719/1719 [==============================] - 5s 3ms/step - loss: 10.4651 - accuracy: 0.1002 - val_loss: 10.4616 - val_accuracy: 0.1000\n",
      "Epoch 7/30\n",
      "1719/1719 [==============================] - 7s 4ms/step - loss: 10.4905 - accuracy: 0.0996 - val_loss: 10.4616 - val_accuracy: 0.1000\n",
      "Epoch 8/30\n",
      "1719/1719 [==============================] - 5s 3ms/step - loss: 10.4697 - accuracy: 0.1029 - val_loss: 10.4616 - val_accuracy: 0.1000\n",
      "Epoch 9/30\n",
      "1719/1719 [==============================] - 5s 3ms/step - loss: 10.3838 - accuracy: 0.1011 - val_loss: 10.4616 - val_accuracy: 0.1000\n",
      "Epoch 10/30\n",
      "1719/1719 [==============================] - 7s 4ms/step - loss: 10.4626 - accuracy: 0.1012 - val_loss: 10.4616 - val_accuracy: 0.1000\n",
      "Epoch 11/30\n",
      "1719/1719 [==============================] - 9s 5ms/step - loss: 10.4789 - accuracy: 0.1019 - val_loss: 10.4616 - val_accuracy: 0.1000s - loss: 10.4813 - ac - ETA: 1s - loss: 10.48\n",
      "Epoch 12/30\n",
      "1719/1719 [==============================] - 5s 3ms/step - loss: 10.4818 - accuracy: 0.0972 - val_loss: 10.4616 - val_accuracy: 0.1000\n",
      "Epoch 13/30\n",
      "1719/1719 [==============================] - 5s 3ms/step - loss: 10.4108 - accuracy: 0.1001 - val_loss: 10.4616 - val_accuracy: 0.1000\n",
      "Epoch 14/30\n",
      "1719/1719 [==============================] - 9s 5ms/step - loss: 10.4624 - accuracy: 0.1005 - val_loss: 10.4616 - val_accuracy: 0.1002- loss: 10.4611 - accurac - ETA: 2s - loss: 10.4612 - accuracy: 0.100 - ETA: 2s - los\n",
      "Epoch 15/30\n",
      "1719/1719 [==============================] - 5s 3ms/step - loss: 10.4229 - accuracy: 0.0973 - val_loss: 10.4616 - val_accuracy: 0.1000\n",
      "Epoch 16/30\n",
      "1719/1719 [==============================] - 7s 4ms/step - loss: 10.3647 - accuracy: 0.0992 - val_loss: 10.4616 - val_accuracy: 0.1000\n",
      "Epoch 17/30\n",
      "1719/1719 [==============================] - 5s 3ms/step - loss: 10.4290 - accuracy: 0.1017 - val_loss: 10.4616 - val_accuracy: 0.1000\n",
      "Epoch 18/30\n",
      "1719/1719 [==============================] - 5s 3ms/step - loss: 10.5075 - accuracy: 0.0990 - val_loss: 10.4616 - val_accuracy: 0.1000\n",
      "Epoch 19/30\n",
      "1719/1719 [==============================] - 8s 5ms/step - loss: 10.4330 - accuracy: 0.0974 - val_loss: 10.4616 - val_accuracy: 0.1000\n",
      "Epoch 20/30\n",
      "1719/1719 [==============================] - 6s 3ms/step - loss: 10.4430 - accuracy: 0.0956 - val_loss: 10.4616 - val_accuracy: 0.1002\n",
      "Epoch 21/30\n",
      "1719/1719 [==============================] - 7s 4ms/step - loss: 10.4260 - accuracy: 0.0996 - val_loss: 10.4616 - val_accuracy: 0.1000\n",
      "Epoch 22/30\n",
      "1719/1719 [==============================] - 7s 4ms/step - loss: 10.4266 - accuracy: 0.0986 - val_loss: 10.4616 - val_accuracy: 0.1000ccuracy: 0\n",
      "Epoch 23/30\n",
      "1719/1719 [==============================] - 5s 3ms/step - loss: 10.4553 - accuracy: 0.1002 - val_loss: 10.4616 - val_accuracy: 0.1000\n",
      "Epoch 24/30\n",
      "1719/1719 [==============================] - 7s 4ms/step - loss: 10.4593 - accuracy: 0.1013 - val_loss: 10.4616 - val_accuracy: 0.1002\n",
      "Epoch 25/30\n",
      "1719/1719 [==============================] - 5s 3ms/step - loss: 10.5070 - accuracy: 0.1000 - val_loss: 10.4616 - val_accuracy: 0.1000\n",
      "Epoch 26/30\n",
      "1719/1719 [==============================] - 5s 3ms/step - loss: 10.4555 - accuracy: 0.1009 - val_loss: 10.4616 - val_accuracy: 0.1002\n",
      "Epoch 27/30\n",
      "1719/1719 [==============================] - 7s 4ms/step - loss: 10.4365 - accuracy: 0.1044 - val_loss: 10.4616 - val_accuracy: 0.1000 1s - loss: 10.4226 - accuracy: 0.105 - ETA: 2s - loss: 10.4227 -  - ETA: 2\n",
      "Epoch 28/30\n",
      "1719/1719 [==============================] - 5s 3ms/step - loss: 10.4288 - accuracy: 0.0990 - val_loss: 10.4616 - val_accuracy: 0.1000\n",
      "Epoch 29/30\n",
      "1719/1719 [==============================] - 7s 4ms/step - loss: 10.4699 - accuracy: 0.0998 - val_loss: 10.4616 - val_accuracy: 0.1000\n",
      "Epoch 30/30\n",
      "1719/1719 [==============================] - 7s 4ms/step - loss: 10.4248 - accuracy: 0.1001 - val_loss: 10.4616 - val_accuracy: 0.1000\n"
     ]
    }
   ],
   "source": [
    "model=keras.models.Sequential()\n",
    "model.add(keras.layers.Flatten(input_shape=[28,28]))\n",
    "model.add(keras.layers.Dense(300,activation=\"relu\"))\n",
    "model.add(keras.layers.Dense(100,activation=\"relu\"))\n",
    "model.add(keras.layers.Dense(10,activation=\"softmax\"))\n",
    "model.compile(loss=\"poisson\",optimizer=\"RMSprop\",metrics=[\"accuracy\"])\n",
    "history=model.fit(x_train,y_train,epochs=30,validation_data=(x_valid,y_valid))"
   ]
  },
  {
   "cell_type": "code",
   "execution_count": 31,
   "metadata": {},
   "outputs": [
    {
     "name": "stdout",
     "output_type": "stream",
     "text": [
      "success rate for this model is9.99\n"
     ]
    }
   ],
   "source": [
    "y_predict=model.predict_classes(testData)\n",
    "count=0\n",
    "for i in range(len(y_predict)):\n",
    "    if(y_predict[i]==testLabel[i]):\n",
    "        count+=1\n",
    "rap=(count/len(y_predict))*100\n",
    "print(\"success rate for this model is\" +str(rap))"
   ]
  },
  {
   "cell_type": "markdown",
   "metadata": {},
   "source": [
    "# Accuracy table"
   ]
  },
  {
   "cell_type": "code",
   "execution_count": 33,
   "metadata": {},
   "outputs": [
    {
     "name": "stdout",
     "output_type": "stream",
     "text": [
      "|         | sparse categorical crossentropy   | kl_divergence       | Poisson   |\n",
      "|---------+-----------------------------------+---------------------+-----------|\n",
      "| SGD     | 97.8%                             | 10.68%              | 9.6%      |\n",
      "| Nadam   | 97.6%                             | 9.9%                | 10.02%    |\n",
      "| RMSprob | 96.93%                            | 10.280000000000001% | 9.99%     |\n"
     ]
    }
   ],
   "source": [
    "table = []\n",
    "table.append(['','sparse categorical crossentropy','kl_divergence','Poisson'])\n",
    "table.append(['SGD',str(sas)+\"%\",str(sak)+\"%\",str(sap)+\"%\"])\n",
    "table.append(['Nadam',str(nas)+\"%\",str(nak)+\"%\",str(nap)+\"%\"])\n",
    "table.append(['RMSprob',str(ras)+\"%\",str(rak)+\"%\",str(rap)+\"%\"])\n",
    "print(tabulate(table,headers=\"firstrow\", tablefmt=\"orgtbl\"))"
   ]
  },
  {
   "cell_type": "markdown",
   "metadata": {},
   "source": [
    "# Results and conclusion\n",
    "\n",
    "### optmizers tested\n",
    "1.SGD\n",
    "2.Nadam\n",
    "3.RMSprop\n",
    "### loss functions used\n",
    "1.sparse_categorical_crossentropy\n",
    "2.kl_divergence\n",
    "3.Poisson\n",
    "### 4 layers\n",
    "2 hidden layers 300 neorons and 100 neorons\n",
    "#### Activation Function: relu\n",
    "\n",
    "\n",
    "# conclusion\n",
    "as a conclusion for the used models the best combnitions that have high satsfaction result and the most success rate theat should be considered are\n",
    "-SGD and sparse_categorical_crossentropy\n",
    "-Nadam optimizer and sparse_categorical_crossentropy\n",
    "-sparse_categorical_crossentropy and optimizer\n",
    "\n",
    "the others have very low sucess rate and I dont think they are a good solution\n",
    "\n",
    "it seems for this kind of solution sparse_categorical_crossentropy is the loss function to use as with all three optmizers worked well\n",
    "using other loss function in this solution is give very poor results"
   ]
  },
  {
   "cell_type": "code",
   "execution_count": null,
   "metadata": {},
   "outputs": [],
   "source": []
  }
 ],
 "metadata": {
  "kernelspec": {
   "display_name": "Python 3",
   "language": "python",
   "name": "python3"
  },
  "language_info": {
   "codemirror_mode": {
    "name": "ipython",
    "version": 3
   },
   "file_extension": ".py",
   "mimetype": "text/x-python",
   "name": "python",
   "nbconvert_exporter": "python",
   "pygments_lexer": "ipython3",
   "version": "3.8.5"
  }
 },
 "nbformat": 4,
 "nbformat_minor": 4
}
